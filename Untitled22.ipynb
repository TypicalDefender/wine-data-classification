{
 "cells": [
  {
   "cell_type": "code",
   "execution_count": 16,
   "metadata": {},
   "outputs": [
    {
     "name": "stdout",
     "output_type": "stream",
     "text": [
      "        id  id_android      speed      time  distance  rating  rating_bus  \\\n",
      "0        1           0  19.210586  0.138049     2.652       3           0   \n",
      "1        2           0  30.848229  0.171485     5.290       3           0   \n",
      "2        3           1  13.560101  0.067699     0.918       3           0   \n",
      "3        4           1  19.766679  0.389544     7.700       3           0   \n",
      "4        8           0  25.807401  0.154801     3.995       2           0   \n",
      "5       10           2   1.346913  0.006682     0.009       2           0   \n",
      "6       11           3  36.850787  0.228001     8.402       3           0   \n",
      "7       12           1  17.405131  0.038782     0.675       3           0   \n",
      "8       13           1  15.395436  0.526844     8.111       3           0   \n",
      "9       14           1   8.902729  0.003033     0.027       2           0   \n",
      "10      16           3  15.041348  0.217866     3.277       3           0   \n",
      "11      17           3  14.440098  0.268142     3.872       3           0   \n",
      "12      18           1  16.356733  0.077033     1.260       2           0   \n",
      "13      19           1  17.542800  0.333869     5.857       2           0   \n",
      "14      20           4   9.451816  0.276772     2.616       2           0   \n",
      "15      21           4   9.451816  0.276772     2.616       2           0   \n",
      "16      22           4  16.263504  0.450948     7.334       2           0   \n",
      "17      23           4  21.223594  0.289725     6.149       3           0   \n",
      "18      24           4  19.423655  0.236567     4.595       2           0   \n",
      "19      25           4  20.799629  0.425440     8.849       3           0   \n",
      "20      26           4   8.724372  1.942948    16.951       1           0   \n",
      "21      27           4   8.724372  1.942948    16.951       1           0   \n",
      "22      28           3   8.686138  0.502410     4.364       3           0   \n",
      "23      30           3  54.995947  1.014075    55.770       3           0   \n",
      "24      31           3  54.995947  1.014075    55.770       3           0   \n",
      "25      33           1  12.611045  0.579096     7.303       2           0   \n",
      "26      34           3  14.534287  0.079054     1.149       3           0   \n",
      "27      35           3  10.288227  0.318422     3.276       3           0   \n",
      "28      36           3  18.328189  0.130946     2.400       3           0   \n",
      "29      37           1  17.177635  0.166088     2.853       3           0   \n",
      "..     ...         ...        ...       ...       ...     ...         ...   \n",
      "133  38013          15  17.654492  0.525589     9.279       1           0   \n",
      "134  38015          10  24.504738  0.198043     4.853       1           2   \n",
      "135  38016           1  11.566573  0.441358     5.105       1           3   \n",
      "136  38017          16  14.630896  0.766734    11.218       2           0   \n",
      "137  38018          17   0.398476  0.017567     0.007       3           1   \n",
      "138  38019          16   9.076859  0.512402     4.651       2           0   \n",
      "139  38020          18  25.451333  0.193978     4.937       3           0   \n",
      "140  38021          18  25.451333  0.193978     4.937       3           0   \n",
      "141  38022           1  19.376794  0.351400     6.809       1           2   \n",
      "142  38024          10   7.138068  0.580829     4.146       3           1   \n",
      "143  38030           1   1.783187  0.003926     0.007       3           1   \n",
      "144  38031          19   0.172012  0.459270     0.079       3           1   \n",
      "145  38039          20   1.311612  0.016011     0.021       3           1   \n",
      "146  38044          21  23.199392  0.234230     5.434       3           2   \n",
      "147  38045          21  23.502928  0.159427     3.747       3           1   \n",
      "148  38064          22   1.445142  0.092724     0.134       3           2   \n",
      "149  38069          23   0.536246  0.022378     0.012       3           1   \n",
      "150  38072          24  36.647072  0.200071     7.332       3           0   \n",
      "151  38073          24  31.367337  0.255807     8.024       3           0   \n",
      "152  38074          24  25.562397  0.177526     4.538       3           0   \n",
      "153  38075          24  38.028107  0.171347     6.516       3           0   \n",
      "154  38076          24  28.142437  0.226704     6.380       3           0   \n",
      "155  38077          24  21.812070  0.143774     3.136       3           0   \n",
      "156  38079          24  23.828515  0.196907     4.692       2           0   \n",
      "157  38080          24  28.336619  0.110458     3.130       3           0   \n",
      "158  38081          24  30.051732  0.218756     6.574       2           0   \n",
      "159  38082          24  30.173788  0.255387     7.706       3           0   \n",
      "160  38084          25   1.153772  0.013001     0.015       1           3   \n",
      "161  38090          26   0.843223  0.007116     0.006       3           1   \n",
      "162  38092          27   1.372998  0.016752     0.023       3           1   \n",
      "\n",
      "     rating_weather  car_or_bus  \n",
      "0                 0           1  \n",
      "1                 0           1  \n",
      "2                 0           2  \n",
      "3                 0           2  \n",
      "4                 0           1  \n",
      "5                 0           1  \n",
      "6                 0           1  \n",
      "7                 0           2  \n",
      "8                 0           2  \n",
      "9                 0           2  \n",
      "10                0           1  \n",
      "11                0           1  \n",
      "12                0           2  \n",
      "13                0           2  \n",
      "14                0           1  \n",
      "15                0           1  \n",
      "16                0           1  \n",
      "17                0           1  \n",
      "18                0           2  \n",
      "19                0           2  \n",
      "20                0           2  \n",
      "21                0           2  \n",
      "22                0           1  \n",
      "23                0           1  \n",
      "24                0           1  \n",
      "25                0           2  \n",
      "26                0           1  \n",
      "27                0           1  \n",
      "28                0           1  \n",
      "29                0           1  \n",
      "..              ...         ...  \n",
      "133               0           1  \n",
      "134               2           2  \n",
      "135               1           2  \n",
      "136               0           1  \n",
      "137               2           2  \n",
      "138               0           1  \n",
      "139               0           1  \n",
      "140               0           1  \n",
      "141               2           2  \n",
      "142               2           2  \n",
      "143               2           2  \n",
      "144               2           2  \n",
      "145               2           2  \n",
      "146               2           2  \n",
      "147               2           2  \n",
      "148               2           2  \n",
      "149               2           2  \n",
      "150               0           1  \n",
      "151               0           1  \n",
      "152               0           1  \n",
      "153               0           1  \n",
      "154               0           1  \n",
      "155               0           1  \n",
      "156               0           1  \n",
      "157               0           1  \n",
      "158               0           1  \n",
      "159               0           1  \n",
      "160               2           2  \n",
      "161               2           2  \n",
      "162               2           2  \n",
      "\n",
      "[163 rows x 9 columns]\n"
     ]
    }
   ],
   "source": [
    "import numpy as np\n",
    "import matplotlib.pyplot as plt\n",
    "import pandas as pd\n",
    "from sklearn.tree import DecisionTreeClassifier\n",
    "from sklearn.model_selection import train_test_split as tts\n",
    "\n",
    "datasets = pd.read_csv(\"C:/Users/Sarthak/Downloads/GPSTrajectory/go_track_tracks.csv\")\n",
    "\n",
    "print(datasets)"
   ]
  },
  {
   "cell_type": "code",
   "execution_count": 18,
   "metadata": {},
   "outputs": [
    {
     "data": {
      "text/plain": [
       "[<matplotlib.lines.Line2D at 0x1ef46a02da0>,\n",
       " <matplotlib.lines.Line2D at 0x1ef46d0ada0>,\n",
       " <matplotlib.lines.Line2D at 0x1ef46d0aef0>,\n",
       " <matplotlib.lines.Line2D at 0x1ef46d12080>,\n",
       " <matplotlib.lines.Line2D at 0x1ef46d121d0>,\n",
       " <matplotlib.lines.Line2D at 0x1ef46d12320>,\n",
       " <matplotlib.lines.Line2D at 0x1ef46d12470>,\n",
       " <matplotlib.lines.Line2D at 0x1ef46d125c0>]"
      ]
     },
     "execution_count": 18,
     "metadata": {},
     "output_type": "execute_result"
    },
    {
     "data": {
      "image/png": "[encoded data removed]",
      "text/plain": [
       "<Figure size 432x288 with 1 Axes>"
      ]
     },
     "metadata": {
      "needs_background": "light"
     },
     "output_type": "display_data"
    }
   ],
   "source": [
    "xtrain = datasets.iloc[:, :8].values\n",
    "ytrain = datasets.iloc[:, 8].values\n",
    "\n",
    "from matplotlib import pyplot as plt\n",
    "plt.xlabel(\"FEATURES--->\")\n",
    "plt.ylabel(\"LABEL------>\")\n",
    "plt.plot(xtrain, ytrain)"
   ]
  },
  {
   "cell_type": "code",
   "execution_count": 12,
   "metadata": {},
   "outputs": [
    {
     "data": {
      "text/plain": [
       "DecisionTreeClassifier(class_weight=None, criterion='gini', max_depth=3,\n",
       "            max_features=None, max_leaf_nodes=None,\n",
       "            min_impurity_decrease=0.0, min_impurity_split=None,\n",
       "            min_samples_leaf=1, min_samples_split=2,\n",
       "            min_weight_fraction_leaf=0.0, presort=False, random_state=None,\n",
       "            splitter='best')"
      ]
     },
     "execution_count": 12,
     "metadata": {},
     "output_type": "execute_result"
    }
   ],
   "source": [
    "clf = DecisionTreeClassifier(max_depth = 3, min_samples_split=2)\n",
    "train_feats, test_feats, train_label, test_label = tts(xtrain, ytrain, test_size = 0.2)\n",
    "clf.fit(train_feats, train_label)\n"
   ]
  },
  {
   "cell_type": "code",
   "execution_count": 32,
   "metadata": {},
   "outputs": [
    {
     "name": "stdout",
     "output_type": "stream",
     "text": [
      "[1 1 2 1 1 2 1 2 1 1 2 1 1 2 2 2 2 1 1 1 1 1 1 1 1 1 1 2 2 1 2 1 1]\n"
     ]
    },
    {
     "data": {
      "text/plain": [
       "[<matplotlib.lines.Line2D at 0x1ef481fbba8>,\n",
       " <matplotlib.lines.Line2D at 0x1ef481fbda0>,\n",
       " <matplotlib.lines.Line2D at 0x1ef481fbef0>,\n",
       " <matplotlib.lines.Line2D at 0x1ef48206080>,\n",
       " <matplotlib.lines.Line2D at 0x1ef482061d0>,\n",
       " <matplotlib.lines.Line2D at 0x1ef48206320>,\n",
       " <matplotlib.lines.Line2D at 0x1ef48206470>,\n",
       " <matplotlib.lines.Line2D at 0x1ef482065c0>]"
      ]
     },
     "execution_count": 32,
     "metadata": {},
     "output_type": "execute_result"
    },
    {
     "data": {
      "image/png": "[encoded data removed]",
      "text/plain": [
       "<Figure size 432x288 with 1 Axes>"
      ]
     },
     "metadata": {
      "needs_background": "light"
     },
     "output_type": "display_data"
    }
   ],
   "source": [
    "predictions = clf.predict(test_feats)\n",
    "print(predictions)\n",
    "\n",
    "from matplotlib import pyplot as plt\n",
    "plt.xlabel(\"FEATURES--->\")\n",
    "plt.ylabel(\"LABEL------>\")\n",
    "plt.plot(test_feats, test_label)\n",
    "\n"
   ]
  },
  {
   "cell_type": "code",
   "execution_count": 34,
   "metadata": {},
   "outputs": [
    {
     "data": {
      "text/plain": [
       "[<matplotlib.lines.Line2D at 0x1ef47012710>,\n",
       " <matplotlib.lines.Line2D at 0x1ef470125f8>,\n",
       " <matplotlib.lines.Line2D at 0x1ef470121d0>,\n",
       " <matplotlib.lines.Line2D at 0x1ef47012278>,\n",
       " <matplotlib.lines.Line2D at 0x1ef470123c8>,\n",
       " <matplotlib.lines.Line2D at 0x1ef47012518>,\n",
       " <matplotlib.lines.Line2D at 0x1ef46fcb320>,\n",
       " <matplotlib.lines.Line2D at 0x1ef46fcba58>]"
      ]
     },
     "execution_count": 34,
     "metadata": {},
     "output_type": "execute_result"
    },
    {
     "data": {
      "image/png": "[encoded data removed]",
      "text/plain": [
       "<Figure size 432x288 with 1 Axes>"
      ]
     },
     "metadata": {
      "needs_background": "light"
     },
     "output_type": "display_data"
    }
   ],
   "source": [
    "plt.plot(train_feats, train_label)"
   ]
  },
  {
   "cell_type": "code",
   "execution_count": 35,
   "metadata": {},
   "outputs": [
    {
     "name": "stdout",
     "output_type": "stream",
     "text": [
      "ACCURACY 0.8787878787878788\n"
     ]
    }
   ],
   "source": [
    "count = 0\n",
    "for i in range(len(predictions)):\n",
    "    if(predictions[i] == test_label[i]):\n",
    "        count+=1\n",
    "print(\"ACCURACY\", count/len(predictions))"
   ]
  },
  {
   "cell_type": "code",
   "execution_count": null,
   "metadata": {},
   "outputs": [],
   "source": []
  }
 ],
 "metadata": {
  "kernelspec": {
   "display_name": "Python 3",
   "language": "python",
   "name": "python3"
  },
  "language_info": {
   "codemirror_mode": {
    "name": "ipython",
    "version": 3
   },
   "file_extension": ".py",
   "mimetype": "text/x-python",
   "name": "python",
   "nbconvert_exporter": "python",
   "pygments_lexer": "ipython3",
   "version": "3.6.7"
  }
 },
 "nbformat": 4,
 "nbformat_minor": 2
}
